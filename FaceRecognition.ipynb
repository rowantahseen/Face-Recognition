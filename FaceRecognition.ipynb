{
 "cells": [
  {
   "cell_type": "code",
   "execution_count": 1,
   "metadata": {},
   "outputs": [],
   "source": [
    "from PIL import Image\n",
    "import glob, os\n",
    "import numpy as np\n",
    "import cv2"
   ]
  },
  {
   "cell_type": "code",
   "execution_count": 5,
   "metadata": {
    "scrolled": false
   },
   "outputs": [
    {
     "name": "stdout",
     "output_type": "stream",
     "text": [
      "D:\\Term 8\\Pattern Recognition\\Face Recognition Project\\.ipynb_checkpoints\n",
      "(112, 92)\n",
      "fasel 3shan 5ater rowan\n",
      "(10304,)\n",
      "['s1', 's10', 's11', 's12', 's13', 's14', 's15', 's16', 's17', 's18', 's19', 's2', 's20', 's21', 's22', 's23', 's24', 's25', 's26', 's27', 's28', 's29', 's3', 's30', 's31', 's32', 's33', 's34', 's35', 's36', 's37', 's38', 's39', 's4', 's40', 's5', 's6', 's7', 's8', 's9']\n"
     ]
    }
   ],
   "source": [
    "faces=[]\n",
    "unrolled_faces=[]\n",
    "labels= []\n",
    "# orl_faces = os.chdir(\"..\")\n",
    "# os.chdir(\"orl_faces\")\n",
    "print(os.getcwd()) \n",
    "dire=\"D:\\Term 8\\Pattern Recognition\\Face Recognition Project\\orl_faces\"\n",
    "# os.chdir(dir)\n",
    "i=0\n",
    "for folder in os.listdir(dire):\n",
    "    face_dir=os.path.join(dire,folder) \n",
    "    labels.append(folder)\n",
    "#     print(face_dir)\n",
    "    os.chdir(face_dir)\n",
    "    for face in os.listdir(face_dir):\n",
    "        fc=os.path.join(face_dir,face)\n",
    "        faces.append(cv2.imread(fc,0))\n",
    "#         print(cv2.imread(fc,0).size)\n",
    "        unrolled_faces.append(np.array(cv2.imread(fc,0)).flatten())\n",
    "#         print(fc)\n",
    "        \n",
    "# Uncomment the following block if u want to show the images, each image is alternated by a keyboard click\n",
    "\n",
    "#         cv2.imshow('image',lis[i])\n",
    "#         i+=1\n",
    "#         cv2.waitKey(0)\n",
    "#         cv2.destroyAllWindows()\n",
    "#         print(lis)\n",
    "print(faces[0].shape)\n",
    "\n",
    "npfaces=np.array(unrolled_faces)\n",
    "print('fasel 3shan 5ater rowan')\n",
    "print(npfaces[399].shape)\n",
    "print(labels)\n"
   ]
  },
  {
   "cell_type": "code",
   "execution_count": 7,
   "metadata": {},
   "outputs": [
    {
     "name": "stdout",
     "output_type": "stream",
     "text": [
      "[[ 48  49  45 ...  47  46  46]\n",
      " [ 60  60  62 ...  32  34  34]\n",
      " [ 63  53  35 ...  41  10  24]\n",
      " ...\n",
      " [114 110 112 ...  93  89  86]\n",
      " [113 112 111 ...  87  87  89]\n",
      " [111 114 112 ...  88  86  92]]\n",
      "      test up     \n",
      "[[ 34  34  33 ...  37  40  33]\n",
      " [ 39  44  53 ...  29  26  29]\n",
      " [ 64  76  80 ...  35  37  39]\n",
      " ...\n",
      " [110 109 111 ...  94  88  90]\n",
      " [112 109 116 ...  93  88  92]\n",
      " [110 112 113 ...  92  87  90]]\n",
      "       train up  \n",
      "[[ 48  49  45 ...  47  46  46]\n",
      " [ 34  34  33 ...  37  40  33]\n",
      " [ 60  60  62 ...  32  34  34]\n",
      " ...\n",
      " [112 109 116 ...  93  88  92]\n",
      " [111 114 112 ...  88  86  92]\n",
      " [110 112 113 ...  92  87  90]]\n",
      "['s1', 's10', 's11', 's12', 's13', 's14', 's15', 's16', 's17', 's18', 's19', 's2', 's20', 's21', 's22', 's23', 's24', 's25', 's26', 's27', 's28', 's29', 's3', 's30', 's31', 's32', 's33', 's34', 's35', 's36', 's37', 's38', 's39', 's4', 's40', 's5', 's6', 's7', 's8', 's9']\n"
     ]
    }
   ],
   "source": [
    "test = npfaces[::2]\n",
    "train = npfaces[1::2]\n",
    "\n",
    "    \n",
    "print(test)\n",
    "print( \"      test up     \")\n",
    "print(train)\n",
    "print(\"       train up  \")\n",
    "print(npfaces)\n",
    "print(labels)\n"
   ]
  },
  {
   "cell_type": "code",
   "execution_count": 85,
   "metadata": {},
   "outputs": [],
   "source": [
    "s1 = train[0:5]\n",
    "s10 = train[5:10]\n",
    "s11 = train[10:15]\n",
    "s12 = train[15:20]\n",
    "s13 = train[20:25]\n",
    "s14 = train[25:30]\n",
    "s15 = train[30:35]\n",
    "s16 = train[35:40]\n",
    "s17 = train[40:45]\n",
    "s18 = train[45:50]\n",
    "s19 = train[50:55]\n",
    "s2 = train[55:60]\n",
    "s20 = train[60:65]\n",
    "s21 = train[65:70]\n",
    "s22 = train[70:75]\n",
    "s23 = train[75:80]\n",
    "s24 = train[80:85]\n",
    "s25 = train[85:90]\n",
    "s26 = train[90:95]\n",
    "s27 = train[95:100]\n",
    "s28 = train[100:105]\n",
    "s29 = train[105:110]\n",
    "s3 = train[110:115]\n",
    "s30 = train[115:120]\n",
    "s31 = train[120:125]\n",
    "s32 = train[125:130]\n",
    "s33 = train[130:135]\n",
    "s34 = train[135:140]\n",
    "s35 = train[140:145]\n",
    "s36 = train[145:150]\n",
    "s37 = train[150:155]\n",
    "s38 = train[155:160]\n",
    "s39 = train[160:165]\n",
    "s4 = train[165:170]\n",
    "s40 = train[170:175]\n",
    "s5 = train[175:180]\n",
    "s6 = train[180:185]\n",
    "s7 = train[185:190]\n",
    "s8 = train[190:195]\n",
    "s9 = train[195:200]\n",
    "\n",
    "Original_S = np.array([train[0:5],train[55:60],train[110:115],train[165:170],train[175:180]\n",
    ",train[180:185],train[185:190],train[190:195],train[195:200],train[5:10],train[10:15],train[15:20],train[20:25],train[25:30],train[30:35]\n",
    ",train[35:40],train[40:45],train[45:50],train[50:55],train[60:65],train[65:70],train[70:75],train[75:80],train[80:85],train[85:90]\n",
    ",train[90:95],train[95:100],train[100:105],train[105:110],train[115:120],train[120:125],train[125:130],train[130:135],train[135:140]\n",
    ",train[140:145],train[145:150],train[150:155],train[155:160],train[160:165],train[170:175]])"
   ]
  },
  {
   "cell_type": "code",
   "execution_count": 111,
   "metadata": {},
   "outputs": [
    {
     "name": "stdout",
     "output_type": "stream",
     "text": [
      "Over All Mean is:  [[86.265]\n",
      " [86.365]\n",
      " [86.795]\n",
      " ...\n",
      " [77.35 ]\n",
      " [77.915]\n",
      " [78.24 ]]\n"
     ]
    }
   ],
   "source": [
    "MuS=np.array([s1.mean(axis=0),s2.mean(axis=0),s3.mean(axis=0),s4.mean(axis=0),s5.mean(axis=0),s6.mean(axis=0),s7.mean(axis=0),s8.mean(axis=0),s9.mean(axis=0)\n",
    " ,s10.mean(axis=0),s11.mean(axis=0),s12.mean(axis=0),s13.mean(axis=0) ,s14.mean(axis=0),s15.mean(axis=0),s16.mean(axis=0),s17.mean(axis=0)\n",
    " ,s18.mean(axis=0),s19.mean(axis=0),s20.mean(axis=0),s21.mean(axis=0),s22.mean(axis=0),s23.mean(axis=0),s24.mean(axis=0),s25.mean(axis=0)\n",
    " ,s26.mean(axis=0),s27.mean(axis=0),s28.mean(axis=0),s29.mean(axis=0),s30.mean(axis=0),s31.mean(axis=0),s32.mean(axis=0),s33.mean(axis=0)\n",
    ",s34.mean(axis=0),s35.mean(axis=0),s36.mean(axis=0),s37.mean(axis=0),s38.mean(axis=0),s39.mean(axis=0),s40.mean(axis=0)])\n",
    "\n",
    "Mu= np.array(MuS.mean(axis=0))[np.newaxis]\n",
    "print(\"Over All Mean is: \", Mu.T)\n"
   ]
  },
  {
   "cell_type": "code",
   "execution_count": 222,
   "metadata": {},
   "outputs": [
    {
     "name": "stdout",
     "output_type": "stream",
     "text": [
      "[[  3416.8   1884.4   1383.2 ... -15389.2 -16564.  -14237.2]\n",
      " [  3416.8   1884.4   1383.2 ... -15389.2 -16564.  -14237.2]\n",
      " [  3416.8   1884.4   1383.2 ... -15389.2 -16564.  -14237.2]\n",
      " ...\n",
      " [  3416.8   1884.4   1383.2 ... -15389.2 -16564.  -14237.2]\n",
      " [  3416.8   1884.4   1383.2 ... -15389.2 -16564.  -14237.2]\n",
      " [  3416.8   1884.4   1383.2 ... -15389.2 -16564.  -14237.2]]\n"
     ]
    }
   ],
   "source": [
    "S_W=np.zeros((40,10304))\n",
    "New_S=np.zeros((40,10304))\n",
    "\n",
    "for i in range(40):\n",
    "\n",
    "    New_S= np.dot(Original_S[i].T - MuS[i].reshape(10304,1),Original_S[i]-MuS[i])\n",
    "    \n",
    "for i in range(40):\n",
    "    S_W+= New_S[i]\n",
    "\n",
    "print(S_W)    "
   ]
  },
  {
   "cell_type": "code",
   "execution_count": 223,
   "metadata": {},
   "outputs": [
    {
     "name": "stdout",
     "output_type": "stream",
     "text": [
      "[[160448.233875 159364.956375 159013.216625 ... -18684.25875\n",
      "  -16919.737375 -13550.938   ]\n",
      " [160448.233875 159364.956375 159013.216625 ... -18684.25875\n",
      "  -16919.737375 -13550.938   ]\n",
      " [160448.233875 159364.956375 159013.216625 ... -18684.25875\n",
      "  -16919.737375 -13550.938   ]\n",
      " ...\n",
      " [160448.233875 159364.956375 159013.216625 ... -18684.25875\n",
      "  -16919.737375 -13550.938   ]\n",
      " [160448.233875 159364.956375 159013.216625 ... -18684.25875\n",
      "  -16919.737375 -13550.938   ]\n",
      " [160448.233875 159364.956375 159013.216625 ... -18684.25875\n",
      "  -16919.737375 -13550.938   ]]\n"
     ]
    }
   ],
   "source": [
    "# New_S = Original_S - Mu.T\n",
    "\n",
    "# for i in range(40):\n",
    "#     New_S = Original_S[i] - Mu\n",
    "#     S_T = np.array(Original_S[i].T)\n",
    "\n",
    "# New_S_T= S_T - Mu.T\n",
    "\n",
    "Mu=Mu.reshape(10304,1)\n",
    "SB=np.zeros((40,10304))\n",
    "S_B=np.zeros((40,10304))\n",
    "\n",
    "for i in range(40):\n",
    "    Bee= 5 *np.dot((MuS[i].reshape(10304,1) - Mu),(MuS[i].reshape(10304,1) - Mu).T)\n",
    "    S_B+= Bee[i]\n",
    "#     print(Bee[i])\n",
    "    \n",
    "# for i in B:    \n",
    "#     SB+= i\n",
    "\n",
    "# print(\"       \")\n",
    "# print(\"       \")\n",
    "# print(\"       \")\n",
    "# print(Bee[0])\n",
    "\n",
    "print(S_B)\n",
    "# print(SB)\n",
    "\n",
    "# New_S_T.dot()\n",
    "\n",
    "# print(MuS - Mu)\n",
    "# print(\"The Transpose\")\n",
    "# print((MuS - Mu).T)\n",
    "# print(MuS[0])\n",
    "# print(MuS[1])\n",
    "# print(Mu)"
   ]
  },
  {
   "cell_type": "code",
   "execution_count": null,
   "metadata": {},
   "outputs": [],
   "source": []
  },
  {
   "cell_type": "code",
   "execution_count": null,
   "metadata": {},
   "outputs": [],
   "source": []
  }
 ],
 "metadata": {
  "kernelspec": {
   "display_name": "Python 3",
   "language": "python",
   "name": "python3"
  },
  "language_info": {
   "codemirror_mode": {
    "name": "ipython",
    "version": 3
   },
   "file_extension": ".py",
   "mimetype": "text/x-python",
   "name": "python",
   "nbconvert_exporter": "python",
   "pygments_lexer": "ipython3",
   "version": "3.7.0b3"
  }
 },
 "nbformat": 4,
 "nbformat_minor": 2
}
