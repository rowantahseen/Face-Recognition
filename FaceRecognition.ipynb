{
 "cells": [
  {
   "cell_type": "code",
   "execution_count": 102,
   "metadata": {},
   "outputs": [],
   "source": [
    "from PIL import Image\n",
    "import glob, os\n",
    "import numpy as np\n",
    "import cv2\n",
    "from sklearn.neighbors import KNeighborsClassifier\n",
    "from sklearn.metrics import confusion_matrix\n",
    "from sklearn.metrics import accuracy_score\n",
    "from sklearn.model_selection import cross_val_score"
   ]
  },
  {
   "cell_type": "code",
   "execution_count": 2,
   "metadata": {
    "scrolled": false
   },
   "outputs": [
    {
     "name": "stdout",
     "output_type": "stream",
     "text": [
      "D:\\Term 8\\Pattern Recognition\\Face Recognition Project\n",
      "(112, 92)\n",
      "fasel 3shan 5ater rowan\n",
      "(10304,)\n",
      "['s1', 's10', 's11', 's12', 's13', 's14', 's15', 's16', 's17', 's18', 's19', 's2', 's20', 's21', 's22', 's23', 's24', 's25', 's26', 's27', 's28', 's29', 's3', 's30', 's31', 's32', 's33', 's34', 's35', 's36', 's37', 's38', 's39', 's4', 's40', 's5', 's6', 's7', 's8', 's9']\n"
     ]
    }
   ],
   "source": [
    "faces=[]\n",
    "unrolled_faces=[]\n",
    "labels= []\n",
    "# orl_faces = os.chdir(\"..\")\n",
    "# os.chdir(\"orl_faces\")\n",
    "print(os.getcwd()) \n",
    "dire=\"D:\\Term 8\\Pattern Recognition\\Face Recognition Project\\orl_faces\"\n",
    "# os.chdir(dir)\n",
    "i=0\n",
    "for folder in os.listdir(dire):\n",
    "    face_dir=os.path.join(dire,folder) \n",
    "    labels.append(folder)\n",
    "#     print(face_dir)\n",
    "    os.chdir(face_dir)\n",
    "    for face in os.listdir(face_dir):\n",
    "        fc=os.path.join(face_dir,face)\n",
    "        faces.append(cv2.imread(fc,0))\n",
    "#         print(cv2.imread(fc,0).size)\n",
    "        unrolled_faces.append(np.array(cv2.imread(fc,0)).flatten())\n",
    "#         print(fc)\n",
    "        \n",
    "# Uncomment the following block if u want to show the images, each image is alternated by a keyboard click\n",
    "\n",
    "#         cv2.imshow('image',lis[i])\n",
    "#         i+=1\n",
    "#         cv2.waitKey(0)\n",
    "#         cv2.destroyAllWindows()\n",
    "#         print(lis)\n",
    "print(faces[0].shape)\n",
    "\n",
    "npfaces=np.array(unrolled_faces)\n",
    "print('fasel 3shan 5ater rowan')\n",
    "print(npfaces[399].shape)\n",
    "print(labels)\n"
   ]
  },
  {
   "cell_type": "code",
   "execution_count": 100,
   "metadata": {},
   "outputs": [
    {
     "name": "stdout",
     "output_type": "stream",
     "text": [
      "[[ 48  49  45 ...  47  46  46]\n",
      " [ 60  60  62 ...  32  34  34]\n",
      " [ 63  53  35 ...  41  10  24]\n",
      " ...\n",
      " [114 110 112 ...  93  89  86]\n",
      " [113 112 111 ...  87  87  89]\n",
      " [111 114 112 ...  88  86  92]]\n",
      "      test up     \n",
      "[[ 34  34  33 ...  37  40  33]\n",
      " [ 39  44  53 ...  29  26  29]\n",
      " [ 64  76  80 ...  35  37  39]\n",
      " ...\n",
      " [110 109 111 ...  94  88  90]\n",
      " [112 109 116 ...  93  88  92]\n",
      " [110 112 113 ...  92  87  90]]\n",
      "       train up  \n",
      "[[ 48  49  45 ...  47  46  46]\n",
      " [ 34  34  33 ...  37  40  33]\n",
      " [ 60  60  62 ...  32  34  34]\n",
      " ...\n",
      " [112 109 116 ...  93  88  92]\n",
      " [111 114 112 ...  88  86  92]\n",
      " [110 112 113 ...  92  87  90]]\n",
      "['s1', 's10', 's11', 's12', 's13', 's14', 's15', 's16', 's17', 's18', 's19', 's2', 's20', 's21', 's22', 's23', 's24', 's25', 's26', 's27', 's28', 's29', 's3', 's30', 's31', 's32', 's33', 's34', 's35', 's36', 's37', 's38', 's39', 's4', 's40', 's5', 's6', 's7', 's8', 's9']\n",
      "['s1' 's1' 's1' 's1' 's1' 's10' 's10' 's10' 's10' 's10' 's11' 's11' 's11'\n",
      " 's11' 's11' 's12' 's12' 's12' 's12' 's12' 's13' 's13' 's13' 's13' 's13'\n",
      " 's14' 's14' 's14' 's14' 's14' 's15' 's15' 's15' 's15' 's15' 's16' 's16'\n",
      " 's16' 's16' 's16' 's17' 's17' 's17' 's17' 's17' 's18' 's18' 's18' 's18'\n",
      " 's18' 's19' 's19' 's19' 's19' 's19' 's2' 's2' 's2' 's2' 's2' 's20' 's20'\n",
      " 's20' 's20' 's20' 's21' 's21' 's21' 's21' 's21' 's22' 's22' 's22' 's22'\n",
      " 's22' 's23' 's23' 's23' 's23' 's23' 's24' 's24' 's24' 's24' 's24' 's25'\n",
      " 's25' 's25' 's25' 's25' 's26' 's26' 's26' 's26' 's26' 's27' 's27' 's27'\n",
      " 's27' 's27' 's28' 's28' 's28' 's28' 's28' 's29' 's29' 's29' 's29' 's29'\n",
      " 's3' 's3' 's3' 's3' 's3' 's30' 's30' 's30' 's30' 's30' 's31' 's31' 's31'\n",
      " 's31' 's31' 's32' 's32' 's32' 's32' 's32' 's33' 's33' 's33' 's33' 's33'\n",
      " 's34' 's34' 's34' 's34' 's34' 's35' 's35' 's35' 's35' 's35' 's36' 's36'\n",
      " 's36' 's36' 's36' 's37' 's37' 's37' 's37' 's37' 's38' 's38' 's38' 's38'\n",
      " 's38' 's39' 's39' 's39' 's39' 's39' 's4' 's4' 's4' 's4' 's4' 's40' 's40'\n",
      " 's40' 's40' 's40' 's5' 's5' 's5' 's5' 's5' 's6' 's6' 's6' 's6' 's6' 's7'\n",
      " 's7' 's7' 's7' 's7' 's8' 's8' 's8' 's8' 's8' 's9' 's9' 's9' 's9' 's9']\n"
     ]
    }
   ],
   "source": [
    "test = npfaces[::2]\n",
    "train = npfaces[1::2]\n",
    "\n",
    "    \n",
    "print(test)\n",
    "print( \"      test up     \")\n",
    "print(train)\n",
    "print(\"       train up  \")\n",
    "print(npfaces)\n",
    "print(labels)\n",
    "\n",
    "train_labels = np.array([])\n",
    "\n",
    "for lbl in labels:\n",
    "      for i in range(0,5):\n",
    "            train_labels = np.append(train_labels,lbl)\n",
    "\n",
    "print(train_labels)"
   ]
  },
  {
   "cell_type": "code",
   "execution_count": 4,
   "metadata": {},
   "outputs": [],
   "source": [
    "s1 = train[0:5]\n",
    "s10 = train[5:10]\n",
    "s11 = train[10:15]\n",
    "s12 = train[15:20]\n",
    "s13 = train[20:25]\n",
    "s14 = train[25:30]\n",
    "s15 = train[30:35]\n",
    "s16 = train[35:40]\n",
    "s17 = train[40:45]\n",
    "s18 = train[45:50]\n",
    "s19 = train[50:55]\n",
    "s2 = train[55:60]\n",
    "s20 = train[60:65]\n",
    "s21 = train[65:70]\n",
    "s22 = train[70:75]\n",
    "s23 = train[75:80]\n",
    "s24 = train[80:85]\n",
    "s25 = train[85:90]\n",
    "s26 = train[90:95]\n",
    "s27 = train[95:100]\n",
    "s28 = train[100:105]\n",
    "s29 = train[105:110]\n",
    "s3 = train[110:115]\n",
    "s30 = train[115:120]\n",
    "s31 = train[120:125]\n",
    "s32 = train[125:130]\n",
    "s33 = train[130:135]\n",
    "s34 = train[135:140]\n",
    "s35 = train[140:145]\n",
    "s36 = train[145:150]\n",
    "s37 = train[150:155]\n",
    "s38 = train[155:160]\n",
    "s39 = train[160:165]\n",
    "s4 = train[165:170]\n",
    "s40 = train[170:175]\n",
    "s5 = train[175:180]\n",
    "s6 = train[180:185]\n",
    "s7 = train[185:190]\n",
    "s8 = train[190:195]\n",
    "s9 = train[195:200]\n",
    "\n",
    "Original_S = np.array([train[0:5],train[55:60],train[110:115],train[165:170],train[175:180]\n",
    ",train[180:185],train[185:190],train[190:195],train[195:200],train[5:10],train[10:15],train[15:20],train[20:25],train[25:30],train[30:35]\n",
    ",train[35:40],train[40:45],train[45:50],train[50:55],train[60:65],train[65:70],train[70:75],train[75:80],train[80:85],train[85:90]\n",
    ",train[90:95],train[95:100],train[100:105],train[105:110],train[115:120],train[120:125],train[125:130],train[130:135],train[135:140]\n",
    ",train[140:145],train[145:150],train[150:155],train[155:160],train[160:165],train[170:175]])"
   ]
  },
  {
   "cell_type": "code",
   "execution_count": 9,
   "metadata": {},
   "outputs": [
    {
     "name": "stdout",
     "output_type": "stream",
     "text": [
      "Over All Mean is:  [[86.265]\n",
      " [86.365]\n",
      " [86.795]\n",
      " ...\n",
      " [77.35 ]\n",
      " [77.915]\n",
      " [78.24 ]]\n",
      "(40, 10304)\n",
      "[[44. ]\n",
      " [48.4]\n",
      " [51.4]\n",
      " ...\n",
      " [35.6]\n",
      " [36.6]\n",
      " [36. ]]\n"
     ]
    }
   ],
   "source": [
    "MuS=np.array([s1.mean(axis=0),s2.mean(axis=0),s3.mean(axis=0),s4.mean(axis=0),s5.mean(axis=0),s6.mean(axis=0),s7.mean(axis=0),s8.mean(axis=0),s9.mean(axis=0)\n",
    " ,s10.mean(axis=0),s11.mean(axis=0),s12.mean(axis=0),s13.mean(axis=0) ,s14.mean(axis=0),s15.mean(axis=0),s16.mean(axis=0),s17.mean(axis=0)\n",
    " ,s18.mean(axis=0),s19.mean(axis=0),s20.mean(axis=0),s21.mean(axis=0),s22.mean(axis=0),s23.mean(axis=0),s24.mean(axis=0),s25.mean(axis=0)\n",
    " ,s26.mean(axis=0),s27.mean(axis=0),s28.mean(axis=0),s29.mean(axis=0),s30.mean(axis=0),s31.mean(axis=0),s32.mean(axis=0),s33.mean(axis=0)\n",
    ",s34.mean(axis=0),s35.mean(axis=0),s36.mean(axis=0),s37.mean(axis=0),s38.mean(axis=0),s39.mean(axis=0),s40.mean(axis=0)])\n",
    "\n",
    "Mu= np.array(MuS.mean(axis=0))[np.newaxis]\n",
    "print(\"Over All Mean is: \", Mu.T)\n",
    "print(MuS.shape)\n",
    "print(MuS[0].reshape(10304,1))"
   ]
  },
  {
   "cell_type": "code",
   "execution_count": 10,
   "metadata": {},
   "outputs": [
    {
     "name": "stdout",
     "output_type": "stream",
     "text": [
      "(10304, 10304)\n",
      "(40, 5, 10304)\n",
      "(40, 10304)\n",
      "(10304, 10304)\n",
      "(10304, 10304)\n",
      "[[24423.2 23833.4 23526.  ...  -964.  -1262.6 -2064.4]\n",
      " [23833.4 25988.8 24427.8 ... -1819.4 -3178.  -2968.4]\n",
      " [23526.  24427.8 26166.8 ...  -158.  -2224.  -4336.4]\n",
      " ...\n",
      " [ -964.  -1819.4  -158.  ... 91074.8 63122.2 37822.6]\n",
      " [-1262.6 -3178.  -2224.  ... 63122.2 77461.2 54698.2]\n",
      " [-2064.4 -2968.4 -4336.4 ... 37822.6 54698.2 81746.8]]\n"
     ]
    }
   ],
   "source": [
    "S_W=np.zeros((10304,10304))\n",
    "\n",
    "for i in range(40):\n",
    "\n",
    "    New_S= np.array(np.dot(Original_S[i].T - MuS[i].reshape(10304,1),Original_S[i]-MuS[i]))\n",
    "    S_W+=New_S\n",
    "\n",
    "\n",
    "print(S_W.shape)    \n",
    "print(Original_S.shape)\n",
    "print(MuS.shape)\n",
    "print(New_S.shape)\n",
    "print(S_W.shape)\n",
    "print(S_W)"
   ]
  },
  {
   "cell_type": "code",
   "execution_count": 11,
   "metadata": {},
   "outputs": [
    {
     "name": "stdout",
     "output_type": "stream",
     "text": [
      "(10304, 10304)\n",
      "(10304, 10304)\n",
      "[[229647.755 229781.255 225540.865 ... -18199.55  -22264.895 -18137.32 ]\n",
      " [229781.255 230657.555 226154.165 ... -18978.15  -23072.795 -18861.12 ]\n",
      " [225540.865 226154.165 222227.795 ... -19050.65  -22795.485 -18884.76 ]\n",
      " ...\n",
      " [-18199.55  -18978.15  -19050.65  ... 310058.7   313472.75  311491.6  ]\n",
      " [-22264.895 -23072.795 -22795.485 ... 313472.75  321528.355 317164.88 ]\n",
      " [-18137.32  -18861.12  -18884.76  ... 311491.6   317164.88  319319.68 ]]\n"
     ]
    }
   ],
   "source": [
    "\n",
    "S_B=np.zeros((10304,10304))\n",
    "\n",
    "for i in range(40):\n",
    "    Bee= np.array(5 *np.dot((MuS[i].reshape(10304,1) - Mu.T),(MuS[i] - Mu)))\n",
    "    S_B+=Bee\n",
    "\n",
    "\n",
    "print(Bee.shape)\n",
    "print(S_B.shape)\n",
    "print(S_B)\n",
    "\n",
    "\n"
   ]
  },
  {
   "cell_type": "code",
   "execution_count": 15,
   "metadata": {},
   "outputs": [
    {
     "name": "stdout",
     "output_type": "stream",
     "text": [
      "[[-3.13864104e+10 -7.04226409e+10  5.63765748e+10 ... -2.62539077e+10\n",
      "  -8.95079287e+09 -1.01392930e+10]\n",
      " [ 5.64095327e+10  1.22568051e+11 -1.03110574e+11 ...  3.61841037e+10\n",
      "   1.36325491e+10  3.83596921e+09]\n",
      " [-3.42524203e+10 -5.67230384e+10  4.92962483e+10 ... -1.83706536e+10\n",
      "  -1.85879615e+10 -1.33716590e+09]\n",
      " ...\n",
      " [ 5.86382547e+08 -2.55017198e+09  2.83971143e+09 ...  2.45248360e+09\n",
      "  -5.56588898e+08 -1.42457244e+09]\n",
      " [-3.17129722e+09 -6.29133025e+09  4.48358704e+09 ... -1.93362809e+09\n",
      "  -1.37407422e+08  1.52361215e+08]\n",
      " [ 3.71215049e+09  5.12608324e+09 -3.40547498e+09 ...  3.02182169e+09\n",
      "   1.43869775e+09 -8.03478045e+08]]\n"
     ]
    }
   ],
   "source": [
    "S_W_inv= np.linalg.inv(S_W)\n",
    "print(S_W_inv)"
   ]
  },
  {
   "cell_type": "code",
   "execution_count": 16,
   "metadata": {},
   "outputs": [],
   "source": [
    "eig_vals, eig_vecs = np.linalg.eig(S_W_inv.dot(S_B))"
   ]
  },
  {
   "cell_type": "code",
   "execution_count": 41,
   "metadata": {},
   "outputs": [
    {
     "name": "stdout",
     "output_type": "stream",
     "text": [
      "[-2.56685601e+17+0.00000000e+00j  5.13935798e+16+1.24693309e+17j\n",
      "  5.13935798e+16-1.24693309e+17j ... -1.19988772e+00+1.02890161e+00j\n",
      " -1.19988772e+00-1.02890161e+00j  1.39854116e+00+0.00000000e+00j]\n",
      "       vectors are     :    \n",
      "[[-0.07049804+0.00000000e+00j  0.06880213-3.64899738e-03j\n",
      "   0.06880213+3.64899738e-03j ... -0.0054103 +2.52842214e-03j\n",
      "  -0.0054103 -2.52842214e-03j  0.00081588+0.00000000e+00j]\n",
      " [ 0.14635891+0.00000000e+00j -0.09678724+0.00000000e+00j\n",
      "  -0.09678724-0.00000000e+00j ...  0.00959356-1.56052403e-03j\n",
      "   0.00959356+1.56052403e-03j -0.00605675+0.00000000e+00j]\n",
      " [-0.07847942+0.00000000e+00j  0.04258062-3.93916510e-03j\n",
      "   0.04258062+3.93916510e-03j ...  0.00323135+6.30875161e-04j\n",
      "   0.00323135-6.30875161e-04j -0.00688617+0.00000000e+00j]\n",
      " ...\n",
      " [ 0.00243155+0.00000000e+00j  0.00761877-2.85636279e-03j\n",
      "   0.00761877+2.85636279e-03j ... -0.0020358 +1.26285336e-03j\n",
      "  -0.0020358 -1.26285336e-03j -0.0015088 +0.00000000e+00j]\n",
      " [-0.00933056+0.00000000e+00j  0.00116957+3.85053444e-03j\n",
      "   0.00116957-3.85053444e-03j ... -0.00567792+1.79619471e-03j\n",
      "  -0.00567792-1.79619471e-03j -0.00322136+0.00000000e+00j]\n",
      " [ 0.01150331+0.00000000e+00j  0.00381853+7.99642158e-04j\n",
      "   0.00381853-7.99642158e-04j ... -0.00938378-4.87330838e-06j\n",
      "  -0.00938378+4.87330838e-06j  0.00620165+0.00000000e+00j]]\n"
     ]
    }
   ],
   "source": [
    "print(eig_vals)\n",
    "print(\"       vectors are     :    \")\n",
    "print(eig_vecs)"
   ]
  },
  {
   "cell_type": "code",
   "execution_count": 25,
   "metadata": {},
   "outputs": [
    {
     "data": {
      "text/plain": [
       "(5.139357984241871e+16+1.246933086936298e+17j)"
      ]
     },
     "execution_count": 25,
     "metadata": {},
     "output_type": "execute_result"
    }
   ],
   "source": [
    "eig_vals.max()"
   ]
  },
  {
   "cell_type": "code",
   "execution_count": 26,
   "metadata": {},
   "outputs": [
    {
     "name": "stdout",
     "output_type": "stream",
     "text": [
      "[ 5.13935798e+16+1.24693309e+17j  5.13935798e+16-1.24693309e+17j\n",
      "  3.54280271e+16+0.00000000e+00j ... -2.95490588e+16-5.71742361e+15j\n",
      " -3.53441139e+16+0.00000000e+00j -2.56685601e+17+0.00000000e+00j]\n"
     ]
    }
   ],
   "source": [
    "idx = eig_vals.argsort()[::-1]\n",
    "eigenValues = eig_vals[idx]\n",
    "eigenVectors = eig_vecs[:,idx]\n",
    "\n",
    "print(eigenValues)"
   ]
  },
  {
   "cell_type": "code",
   "execution_count": 29,
   "metadata": {},
   "outputs": [
    {
     "name": "stdout",
     "output_type": "stream",
     "text": [
      "(5.139357984241871e+16+1.246933086936298e+17j)\n",
      "(3.5428027067978876e+16+0j)\n"
     ]
    }
   ],
   "source": [
    "print(eigenValues[0])\n",
    "print(eigenValues[2])"
   ]
  },
  {
   "cell_type": "code",
   "execution_count": 77,
   "metadata": {},
   "outputs": [
    {
     "name": "stdout",
     "output_type": "stream",
     "text": [
      "(39,)\n",
      "(39, 10304)\n",
      "[5.13935798e+16+1.24693309e+17j 5.13935798e+16-1.24693309e+17j\n",
      " 3.54280271e+16+0.00000000e+00j 1.68281955e+16+1.01982983e+16j\n",
      " 1.68281955e+16-1.01982983e+16j 9.04139703e+15+2.89547986e+16j\n",
      " 9.04139703e+15-2.89547986e+16j 8.74640412e+15+3.31495456e+15j\n",
      " 8.74640412e+15-3.31495456e+15j 4.83622470e+15+1.11030843e+14j\n",
      " 4.83622470e+15-1.11030843e+14j 2.88292939e+15+5.02353848e+15j\n",
      " 2.88292939e+15-5.02353848e+15j 2.77050128e+15+0.00000000e+00j\n",
      " 1.37012890e+15+6.32133208e+14j 1.37012890e+15-6.32133208e+14j\n",
      " 4.71012847e+14+3.10717094e+15j 4.71012847e+14-3.10717094e+15j\n",
      " 2.13731695e+05+0.00000000e+00j 1.59674208e+04+0.00000000e+00j\n",
      " 8.28040117e+03+0.00000000e+00j 6.04976865e+03+7.69017399e+03j\n",
      " 6.04976865e+03-7.69017399e+03j 5.72833886e+03+0.00000000e+00j\n",
      " 4.66705710e+03+0.00000000e+00j 4.63213523e+03+3.24282943e+03j\n",
      " 4.63213523e+03-3.24282943e+03j 3.07488748e+03+6.09526302e+02j\n",
      " 3.07488748e+03-6.09526302e+02j 2.68541582e+03+1.62210786e+03j\n",
      " 2.68541582e+03-1.62210786e+03j 1.51302333e+03+0.00000000e+00j\n",
      " 1.50746966e+03+3.42515088e+03j 1.50746966e+03-3.42515088e+03j\n",
      " 1.26997941e+03+5.35697893e+02j 1.26997941e+03-5.35697893e+02j\n",
      " 1.25745431e+03+1.21108602e+03j 1.25745431e+03-1.21108602e+03j\n",
      " 1.22660320e+03+0.00000000e+00j]\n",
      "[[ 0.06880213-0.003649j    0.06880213+0.003649j   -0.02567516+0.j\n",
      "  ...  0.00725291-0.01124636j -0.02650463+0.j\n",
      "  -0.07049804+0.j        ]\n",
      " [-0.09678724+0.j         -0.09678724-0.j          0.02033243+0.j\n",
      "  ...  0.01898618-0.07733857j  0.11068641+0.j\n",
      "   0.14635891+0.j        ]\n",
      " [ 0.04258062-0.00393917j  0.04258062+0.00393917j -0.14943393+0.j\n",
      "  ... -0.04085887+0.09067875j -0.09310502+0.j\n",
      "  -0.07847942+0.j        ]\n",
      " ...\n",
      " [ 0.0191982 -0.02611181j  0.0191982 +0.02611181j  0.02217767+0.j\n",
      "  ...  0.0150744 +0.00224412j  0.02661332+0.j\n",
      "   0.01620672+0.j        ]\n",
      " [-0.01883884-0.00805183j -0.01883884+0.00805183j -0.0290761 +0.j\n",
      "  ...  0.01470068-0.00891257j  0.03911314+0.j\n",
      "   0.02348437+0.j        ]\n",
      " [ 0.02902041-0.01616776j  0.02902041+0.01616776j  0.00949887+0.j\n",
      "  ... -0.02229845+0.00920773j -0.03012121+0.j\n",
      "  -0.01825336+0.j        ]]\n"
     ]
    }
   ],
   "source": [
    "top_eig=[]\n",
    "top_vec=[]\n",
    "for i in range(39):\n",
    "    top_eig.append(eigenValues[i])\n",
    "    top_vec.append(eigenVectors[i])\n",
    "    \n",
    "top_eig=np.array(top_eig)\n",
    "top_vec=np.array(top_vec)\n",
    "print(top_eig.shape)\n",
    "print(top_vec.shape)\n",
    "print(top_eig)\n",
    "print(top_vec)"
   ]
  },
  {
   "cell_type": "code",
   "execution_count": 78,
   "metadata": {},
   "outputs": [
    {
     "name": "stdout",
     "output_type": "stream",
     "text": [
      "eigenvalue 1: 58.81%\n",
      "eigenvalue 2: 58.81%\n",
      "eigenvalue 3: 15.45%\n",
      "eigenvalue 4: 8.58%\n",
      "eigenvalue 5: 8.58%\n",
      "eigenvalue 6: 13.23%\n",
      "eigenvalue 7: 13.23%\n",
      "eigenvalue 8: 4.08%\n",
      "eigenvalue 9: 4.08%\n",
      "eigenvalue 10: 2.11%\n",
      "eigenvalue 11: 2.11%\n",
      "eigenvalue 12: 2.53%\n",
      "eigenvalue 13: 2.53%\n",
      "eigenvalue 14: 1.21%\n",
      "eigenvalue 15: 0.66%\n",
      "eigenvalue 16: 0.66%\n",
      "eigenvalue 17: 1.37%\n",
      "eigenvalue 18: 1.37%\n",
      "eigenvalue 19: 0.00%\n",
      "eigenvalue 20: 0.00%\n",
      "eigenvalue 21: 0.00%\n",
      "eigenvalue 22: 0.00%\n",
      "eigenvalue 23: 0.00%\n",
      "eigenvalue 24: 0.00%\n",
      "eigenvalue 25: 0.00%\n",
      "eigenvalue 26: 0.00%\n",
      "eigenvalue 27: 0.00%\n",
      "eigenvalue 28: 0.00%\n",
      "eigenvalue 29: 0.00%\n",
      "eigenvalue 30: 0.00%\n",
      "eigenvalue 31: 0.00%\n",
      "eigenvalue 32: 0.00%\n",
      "eigenvalue 33: 0.00%\n",
      "eigenvalue 34: 0.00%\n",
      "eigenvalue 35: 0.00%\n",
      "eigenvalue 36: 0.00%\n",
      "eigenvalue 37: 0.00%\n",
      "eigenvalue 38: 0.00%\n",
      "eigenvalue 39: 0.00%\n"
     ]
    }
   ],
   "source": [
    "eig_pairs = [(np.abs(top_eig[i]), top_vec[:,i]) for i in range(len(top_eig))]\n",
    "\n",
    "# eigv_sum = sum(top_eig)\n",
    "# for i in range(40):\n",
    "#     print('eigenvalue {0:}: {1:.2%}', top_eig[i], (top_vec[i]/eigv_sum).real)\n",
    "\n",
    "eigv_sum = sum(top_eig)\n",
    "for i,j in enumerate(eig_pairs):\n",
    "    print('eigenvalue {0:}: {1:.2%}'.format(i+1, (j[0]/eigv_sum).real))"
   ]
  },
  {
   "cell_type": "code",
   "execution_count": 104,
   "metadata": {},
   "outputs": [
    {
     "name": "stdout",
     "output_type": "stream",
     "text": [
      "(39, 10304)\n",
      "(200, 10304)\n",
      "(200, 39)\n",
      "(200, 39)\n",
      "[[ 9.55955161e+02  4.30900937e+02  7.96558024e+02 ...  7.01318199e+01\n",
      "  -5.01847128e+01  4.20915332e+02]\n",
      " [ 8.89822598e+02  5.20913891e+02  7.79935909e+02 ...  3.22601416e-01\n",
      "  -1.62505011e+02  3.24571024e+02]\n",
      " [ 8.91752271e+02  6.77515998e+02  7.87423633e+02 ...  8.82532534e+01\n",
      "  -1.26914969e+02  4.00016324e+02]\n",
      " ...\n",
      " [ 6.12074892e+02  8.05914918e+02  7.84039004e+02 ...  1.20850716e+01\n",
      "   9.16847665e+00  3.34675699e+02]\n",
      " [ 5.98021134e+02  6.26850588e+02  6.28976125e+02 ... -4.57602440e+01\n",
      "   2.53791911e+01  2.25213914e+02]\n",
      " [ 6.95843882e+02  7.38492452e+02  6.51025477e+02 ... -3.67421905e+01\n",
      "   2.33703349e+01  2.80491377e+02]]\n"
     ]
    }
   ],
   "source": [
    "print(top_vec.shape)\n",
    "print(train.shape)\n",
    "\n",
    "LDA_train = np.real(train.dot(top_vec.T))\n",
    "LDA_test = np.real(test.dot(top_vec.T))\n",
    "print(LDA_train.shape)\n",
    "print(LDA_test.shape)\n",
    "print(LDA_train)"
   ]
  },
  {
   "cell_type": "code",
   "execution_count": 115,
   "metadata": {},
   "outputs": [
    {
     "name": "stdout",
     "output_type": "stream",
     "text": [
      "0.915\n"
     ]
    }
   ],
   "source": [
    "# KNN Classifier\n",
    "\n",
    "clf = KNeighborsClassifier(n_neighbors = 1)\n",
    "\n",
    "clf.fit(LDA_train, train_labels)\n",
    "output_labels = clf.predict(LDA_test)\n",
    "print(accuracy_score(output_labels,train_labels))\n",
    "\n",
    "\n"
   ]
  },
  {
   "cell_type": "code",
   "execution_count": null,
   "metadata": {},
   "outputs": [],
   "source": []
  }
 ],
 "metadata": {
  "kernelspec": {
   "display_name": "Python 3",
   "language": "python",
   "name": "python3"
  },
  "language_info": {
   "codemirror_mode": {
    "name": "ipython",
    "version": 3
   },
   "file_extension": ".py",
   "mimetype": "text/x-python",
   "name": "python",
   "nbconvert_exporter": "python",
   "pygments_lexer": "ipython3",
   "version": "3.7.0b3"
  }
 },
 "nbformat": 4,
 "nbformat_minor": 2
}
