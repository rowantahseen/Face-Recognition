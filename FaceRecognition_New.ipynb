{
 "cells": [
  {
   "cell_type": "code",
   "execution_count": 2,
   "metadata": {},
   "outputs": [],
   "source": [
    "from PIL import Image\n",
    "import glob, os\n",
    "import numpy as np\n",
    "import cv2"
   ]
  },
  {
   "cell_type": "code",
   "execution_count": 107,
   "metadata": {
    "scrolled": false
   },
   "outputs": [
    {
     "name": "stdout",
     "output_type": "stream",
     "text": [
      "A:\\term8\\Pattern Recognition\\Assignments\\Assignment 1\\New face\\Face-Recognition\\orl_faces\\s9\n",
      "(112, 92)\n",
      "fasel 3shan 5ater rowan\n",
      "(10304,)\n",
      "['s1', 's10', 's11', 's12', 's13', 's14', 's15', 's16', 's17', 's18', 's19', 's2', 's20', 's21', 's22', 's23', 's24', 's25', 's26', 's27', 's28', 's29', 's3', 's30', 's31', 's32', 's33', 's34', 's35', 's36', 's37', 's38', 's39', 's4', 's40', 's5', 's6', 's7', 's8', 's9']\n"
     ]
    }
   ],
   "source": [
    "faces=[]\n",
    "unrolled_faces=[]\n",
    "labels= []\n",
    "# orl_faces = os.chdir(\"..\")\n",
    "# os.chdir(\"orl_faces\")\n",
    "print(os.getcwd()) \n",
    "dire=\"A:\\\\term8\\\\Pattern Recognition\\\\Assignments\\\\Assignment 1\\\\New face\\\\Face-Recognition\\\\orl_faces\"\n",
    "# os.chdir(dir)\n",
    "i=0\n",
    "for folder in os.listdir(dire):\n",
    "    face_dir=os.path.join(dire,folder) \n",
    "    labels.append(folder)\n",
    "#     print(face_dir)\n",
    "    os.chdir(face_dir)\n",
    "    for face in os.listdir(face_dir):\n",
    "        fc=os.path.join(face_dir,face)\n",
    "        faces.append(cv2.imread(fc,0))\n",
    "#         print(cv2.imread(fc,0).size)\n",
    "        unrolled_faces.append(np.array(cv2.imread(fc,0)).flatten())\n",
    "#         print(fc)\n",
    "        \n",
    "# Uncomment the following block if u want to show the images, each image is alternated by a keyboard click\n",
    "\n",
    "#         cv2.imshow('image',lis[i])\n",
    "#         i+=1\n",
    "#         cv2.waitKey(0)\n",
    "#         cv2.destroyAllWindows()\n",
    "#         print(lis)\n",
    "print(faces[0].shape)\n",
    "# print(faces[0][0].size)#400 pics\n",
    "# print(faces)\n",
    "# print(labels)\n",
    "# print(unrolled_faces)\n",
    "npfaces=np.array(unrolled_faces)\n",
    "print('fasel 3shan 5ater rowan')\n",
    "print(npfaces[399].shape)\n",
    "print(labels)\n"
   ]
  },
  {
   "cell_type": "code",
   "execution_count": 110,
   "metadata": {},
   "outputs": [
    {
     "name": "stdout",
     "output_type": "stream",
     "text": [
      "[[ 48  49  45 ...  47  46  46]\n",
      " [ 60  60  62 ...  32  34  34]\n",
      " [ 63  53  35 ...  41  10  24]\n",
      " ...\n",
      " [114 110 112 ...  93  89  86]\n",
      " [113 112 111 ...  87  87  89]\n",
      " [111 114 112 ...  88  86  92]]\n",
      "      test up     \n",
      "[[ 34  34  33 ...  37  40  33]\n",
      " [ 39  44  53 ...  29  26  29]\n",
      " [ 64  76  80 ...  35  37  39]\n",
      " ...\n",
      " [110 109 111 ...  94  88  90]\n",
      " [112 109 116 ...  93  88  92]\n",
      " [110 112 113 ...  92  87  90]]\n",
      "       train up  \n",
      "[[ 48  49  45 ...  47  46  46]\n",
      " [ 34  34  33 ...  37  40  33]\n",
      " [ 60  60  62 ...  32  34  34]\n",
      " ...\n",
      " [112 109 116 ...  93  88  92]\n",
      " [111 114 112 ...  88  86  92]\n",
      " [110 112 113 ...  92  87  90]]\n"
     ]
    }
   ],
   "source": [
    "test = npfaces[::2]\n",
    "train = npfaces[1::2]\n",
    "\n",
    "    \n",
    "print(test)\n",
    "print( \"      test up     \")\n",
    "print(train)\n",
    "print(\"       train up  \")\n",
    "print(npfaces)\n"
   ]
  },
  {
   "cell_type": "markdown",
   "metadata": {},
   "source": []
  },
  {
   "cell_type": "code",
   "execution_count": null,
   "metadata": {},
   "outputs": [],
   "source": []
  }
 ],
 "metadata": {
  "kernelspec": {
   "display_name": "Python 3",
   "language": "python",
   "name": "python3"
  },
  "language_info": {
   "codemirror_mode": {
    "name": "ipython",
    "version": 3
   },
   "file_extension": ".py",
   "mimetype": "text/x-python",
   "name": "python",
   "nbconvert_exporter": "python",
   "pygments_lexer": "ipython3",
   "version": "3.7.1"
  }
 },
 "nbformat": 4,
 "nbformat_minor": 2
}
